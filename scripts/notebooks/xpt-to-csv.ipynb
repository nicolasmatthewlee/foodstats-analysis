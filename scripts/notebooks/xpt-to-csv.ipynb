{
 "cells": [
  {
   "cell_type": "markdown",
   "metadata": {},
   "source": [
    "# 1. Convert .xpt to csv "
   ]
  },
  {
   "cell_type": "code",
   "execution_count": 1,
   "metadata": {},
   "outputs": [
    {
     "name": "stdout",
     "output_type": "stream",
     "text": [
      "currently at: /Users/nicolaslee/Desktop/nutrition/scripts/notebooks\n"
     ]
    }
   ],
   "source": [
    "import pandas as pd\n",
    "import xport,xport.v56,csv,os\n",
    "# must import pandas with `pip install pandas>=1.3.5`\n",
    "print('currently at:',os.getcwd())"
   ]
  },
  {
   "cell_type": "code",
   "execution_count": 4,
   "metadata": {
    "scrolled": true
   },
   "outputs": [
    {
     "name": "stdout",
     "output_type": "stream",
     "text": [
      "input: ../nhanes-2005-2006/FFQDC_D.xpt\n",
      "output: ../nhanes-2005-2006/FFQDC_D.csv\n"
     ]
    }
   ],
   "source": [
    "input_file = input('input: ')\n",
    "output_file = input('output: ')"
   ]
  },
  {
   "cell_type": "code",
   "execution_count": 5,
   "metadata": {},
   "outputs": [],
   "source": [
    "ds = xport.Dataset()\n",
    "with open(input_file, 'rb') as f:\n",
    "    library = xport.v56.load(f)"
   ]
  },
  {
   "cell_type": "code",
   "execution_count": 6,
   "metadata": {},
   "outputs": [],
   "source": [
    "library[list(library)[0]].to_csv(output_file)"
   ]
  }
 ],
 "metadata": {
  "kernelspec": {
   "display_name": "Python 3 (ipykernel)",
   "language": "python",
   "name": "python3"
  },
  "language_info": {
   "codemirror_mode": {
    "name": "ipython",
    "version": 3
   },
   "file_extension": ".py",
   "mimetype": "text/x-python",
   "name": "python",
   "nbconvert_exporter": "python",
   "pygments_lexer": "ipython3",
   "version": "3.11.2"
  }
 },
 "nbformat": 4,
 "nbformat_minor": 4
}
