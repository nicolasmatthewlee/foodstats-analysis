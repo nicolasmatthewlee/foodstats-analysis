{
 "cells": [
  {
   "cell_type": "markdown",
   "id": "91c4e259",
   "metadata": {},
   "source": [
    "# Background\n",
    "\n",
    "### The Five Data Types of FoodData Central\n",
    "\n",
    "1. USDA National Nutrient Database for Standard Reference (SR)\n",
    "    - last version labeled SR Legacy and released in 2018\n",
    "    - primary food-composition data type in US for decades\n",
    "    - provides average values from selected foods in the marketplace, derived from analyses of composites, calculations, and/or literature\n",
    "    - analytical nutrient profiles were determined for foods in the marketplace and selected based on the market share, representing an estimate of average exposure across the United States\n",
    "    - values will become less relevant as the food supply evolves over time while SR remains static\n",
    "<br><br>\n",
    "2. Global Branded Food Products Database (GBFPD): database of food products based on commercial label data\n",
    "    - includes data from various groups\n",
    "    - data centers on nutrients required by FDA food labeling, but additional data may also be available\n",
    "    - nutrient data that appears on branded and private label foods and are voluntarily provided by the food industry\n",
    "<br><br>\n",
    "3. Foundation Foods (FF)\n",
    "    - goal is to provide information on foods used to make more complex foods (such as those from GBFPD)\n",
    "    - provides information on single-ingredient foods\n",
    "    - provides analytical values for components of individual food samples (NOT composite values)\n",
    "    - provides data including number of samples, sampling location, date of collection, analytical approaches used, agricultural information (e.g. genotype, growing location, production practices)\n",
    "    - intended to be used in coordination with food-composition data from other USDA datasets (e.g. Nutrient Uptake and Outcomes Network, the Agricultural Collaborative Research Outcomes System, Economic Research Service)\n",
    "    - considered the future of USDA food information\n",
    "<br><br>\n",
    "4. Experimental Foods (EF): data type for food-composition data within the context of an experimental design or derived from new analytical methodology research\n",
    "    - foods produced, acquired, or studied under unique conditions (e.g. alternative management systems, experimental genotypes, or research/analytical protocols)\n",
    "    - set of experiments and results\n",
    "    - implemented for an intended audience of researchers\n",
    "<br><br>\n",
    "5. Food and Nutrient Database for Dietary Studies (FNDDS): a data type developed by Beltsville Human Nutrition Research Center's Food Surveys Research Group for the purposes of national nutrition monitoring (released every 2 years in coordination with the release of \"What We Eat in America\" as part of the NHANES). \n",
    "    - provides nutrient values for the foods and beverages reported in What We Eat in America (the dietary intake component of the National Heath and Nutrition Examination Survey (NHANES))\n",
    "    - nutrient profiles for a majority of foods and beverages were derived via calculation utilizing 2 or more ingredient codes from FF and SR Legacy data\n",
    "\n",
    "\"USDA’s FoodData Central: what is it and why is it needed today?\" (https://www.sciencedirect.com/science/article/pii/S0002916522001794?via%3Dihub)\n",
    "\n",
    "---\n",
    "\n",
    "# Files\n",
    "\n",
    "include\n",
    "- `food.csv`: contains ID, data_type, description (name), food category, publication_date\n",
    "- `food_nutrient.csv`: table containing nutrient values for a food; contains ID of the corresponding food, ID of the corresponding nutrient, amount (per 100g), additional data such as number of observations, min, max, etc.\n",
    "- `nutrient.csv`: mapping of nutrient ID to name, unit_name\n",
    "- `foundation_food.csv`: footnotes on select Foundation Food items\n",
    "- `food_category.csv`: mapping of food category ID to food category description\n",
    "\n",
    "exclude\n",
    "- `Download & API Field Descriptions April 2023.pdf`: description of data fields\n",
    "- `acquisition_samples.csv`: maps acquisition ID to sample ID (acquisitions may be blended with other acquisitions to create a sample food, and a given acquisition may be used in the creation of multiple sample foods)\n",
    "- `agricultural_samples.csv`: non-processed foods; n=810; contains ID, date obtained, the name of the specific kind of food, special conditions relevant to the production of this food (e.g. \"drought\"), the state where this food was produced\n",
    "- `all_downloaded_table_record_counts.csv`: maps table name to number of records in the table\n",
    "- `food_attribute.csv`: entries for food attributes, with FDC_ID mapping the attribute to the food that the attribute pertains to, the name of the attribute, the value of the attribute (e.g. ontology name for source, is organic, ingredients, barcode, etc.) \n",
    "- `food_attribute_type.csv`: mapping of food attribute type ID to name and description (not all food attributes have a value for this field)\n",
    "- `food_calorie_conversion_factor.csv`: mapping of ID (from nutrient_conversion_factor table) to multiplication factors for protein, fat, and carbohydrates used when calculating energy from macronutrients\n",
    "- `food_component.csv`: data on part of a food (e.g. percent weight)\n",
    "- `food_nutrient_conversion_factor.csv`: mapping of nutrient conversion factor ID to food ID\n",
    "- `food_portion.csv`: food portions (e.g. 3 tsp, 1 slice) with data on gram_weight\n",
    "- `food_protein_conversion_factor.csv`: mapping of ID from nutrient_conversion_factor table to multiplication factor used to calculate protein from nitrogen\n",
    "- `food_update_log_entry.csv`: record on when the food was published to FoodData Central\n",
    "- `input_food.csv`: foods that ingredients in other foods\n",
    "- `lab_method.csv`: mapping of method ID to description for measuring amount of a nutrient in a given food\n",
    "- `lab_method_code.csv`: mapping of method ID to method code\n",
    "- `lab_method_nutrient.csv`: mapping of lab method ID to nutrient ID\n",
    "- `market_acquisition.csv`: data on foods acquired for analysis (e.g. brand name, store location, store name, etc.)\n",
    "- `measure_unit.csv`: mapping of measurement ID to measurement description (for foods; e.g. banana, bar, can, lb)\n",
    "- `sample_food.csv`: a food that is acquired as a representative sample of the food supply. It may be created from a single acquired food, or from a composite of multiple acquired foods (only contains food ID)\n",
    "- `sub_sample_food.csv`: mapping of fdc_id to sample_food used in analysis\n",
    "- `sub_sample_result.csv`: result of chemical analysis on a particular sample for a particular nutrient\n",
    "- `survey_fndds_food.csv`: foods whose consumption is measured in NHANES What We Eat in America\n",
    "\n",
    "source: https://fdc.nal.usda.gov/fdc-datasets/FoodData_Central_foundation_food_csv_2023-04-20.zip\n",
    "\n",
    "---\n",
    "\n",
    "# Development Plan\n",
    "\n",
    "1. ~~read background on USDA Food Data Central (continue reading at EF section)~~\n",
    "\n",
    "2. ~~download files for `Foundation Foods` and review available data files~~\n",
    "\n",
    "3. ~~clean data~~\n",
    "\n",
    "4. ~~setup models in Django with SQLite~~\n",
    "\n",
    "5. ~~load data into SQLite instance~~\n",
    "\n",
    "### Future Updates\n",
    "- add GBFPD foods for branded products\n",
    "- add SR foods (?)\n",
    "- PostGres, GraphQL?"
   ]
  },
  {
   "cell_type": "code",
   "execution_count": 1,
   "id": "d1a3fd91",
   "metadata": {},
   "outputs": [],
   "source": [
    "import os, pandas as pd\n",
    "\n",
    "data_dir='../data/FoodData_Central_foundation_food_csv_2023-04-20'\n",
    "save_dir='../data'"
   ]
  },
  {
   "cell_type": "markdown",
   "id": "1a9d9b96",
   "metadata": {},
   "source": [
    "## 1. Load data"
   ]
  },
  {
   "cell_type": "code",
   "execution_count": 2,
   "id": "85355a0b",
   "metadata": {
    "scrolled": true
   },
   "outputs": [
    {
     "name": "stderr",
     "output_type": "stream",
     "text": [
      "/Users/nicolaslee/data_env/lib/python3.8/site-packages/IPython/core/interactiveshell.py:3460: DtypeWarning: Columns (9) have mixed types.Specify dtype option on import or set low_memory=False.\n",
      "  exec(code_obj, self.user_global_ns, self.user_ns)\n"
     ]
    }
   ],
   "source": [
    "food=pd.read_csv(f'{data_dir}/food.csv')\n",
    "food_nutrient=pd.read_csv(f'{data_dir}/food_nutrient.csv')\n",
    "nutrient=pd.read_csv(f'{data_dir}/nutrient.csv')\n",
    "foundation_food_codes=pd.read_csv(f'{data_dir}/foundation_food.csv').values\n",
    "food_category=pd.read_csv(f'{data_dir}/food_category.csv',dtype={'id':int,'code':int,'description':str})"
   ]
  },
  {
   "cell_type": "markdown",
   "id": "da274000",
   "metadata": {},
   "source": [
    "## 2. Clean data"
   ]
  },
  {
   "cell_type": "code",
   "execution_count": 3,
   "id": "f2d7eec9",
   "metadata": {},
   "outputs": [],
   "source": [
    "food['description'].fillna(\"\",inplace=True)\n",
    "nutrient.drop(columns=[\"nutrient_nbr\",\"rank\"],inplace=True)\n",
    "foundation_food=food[food.apply(lambda x:x['fdc_id'] in foundation_food_codes,axis=1)]\n",
    "food_category.drop(columns=['code'],inplace=True)"
   ]
  },
  {
   "cell_type": "code",
   "execution_count": 4,
   "id": "c671ce23",
   "metadata": {},
   "outputs": [],
   "source": [
    "# reorder columns to match database implementation as SQLite .import assumes columns\n",
    "# are in the same order\n",
    "foundation_food=foundation_food[['fdc_id','data_type','description','publication_date','food_category_id']]"
   ]
  },
  {
   "cell_type": "markdown",
   "id": "42311756",
   "metadata": {},
   "source": [
    "## 3. Save data"
   ]
  },
  {
   "cell_type": "code",
   "execution_count": 10,
   "id": "b0e734ca",
   "metadata": {},
   "outputs": [],
   "source": [
    "foundation_food.to_csv(f'{save_dir}/cleaned_foundation_food.csv',index=False)\n",
    "food_nutrient.to_csv(f'{save_dir}/cleaned_food_nutrient.csv',index=False)\n",
    "nutrient.to_csv(f'{save_dir}/cleaned_nutrient.csv',index=False)\n",
    "food_category.to_csv(f'{save_dir}/cleaned_food_category.csv',index=False)"
   ]
  }
 ],
 "metadata": {
  "kernelspec": {
   "display_name": "Python 3 (ipykernel)",
   "language": "python",
   "name": "python3"
  },
  "language_info": {
   "codemirror_mode": {
    "name": "ipython",
    "version": 3
   },
   "file_extension": ".py",
   "mimetype": "text/x-python",
   "name": "python",
   "nbconvert_exporter": "python",
   "pygments_lexer": "ipython3",
   "version": "3.8.5"
  }
 },
 "nbformat": 4,
 "nbformat_minor": 5
}
