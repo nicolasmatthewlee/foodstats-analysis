{
 "cells": [
  {
   "cell_type": "markdown",
   "id": "91c4e259",
   "metadata": {},
   "source": [
    "# Background\n",
    "\n",
    "### The Five Data Types of FoodData Central\n",
    "\n",
    "1. USDA National Nutrient Database for Standard Reference (SR)\n",
    "    - last version labeled SR Legacy and released in 2018\n",
    "    - primary food-composition data type in US for decades\n",
    "    - provides average values from selected foods in the marketplace, derived from analyses of composites, calculations, and/or literature\n",
    "    - analytical nutrient profiles were determined for foods in the marketplace and selected based on the market share, representing an estimate of average exposure across the United States\n",
    "    - values will become less relevant as the food supply evolves over time while SR remains static\n",
    "<br><br>\n",
    "2. Global Branded Food Products Database (GBFPD): database of food products based on commercial label data\n",
    "    - includes data from various groups\n",
    "    - data centers on nutrients required by FDA food labeling, but additional data may also be available\n",
    "    - nutrient data that appears on branded and private label foods and are voluntarily provided by the food industry\n",
    "<br><br>\n",
    "3. Foundation Foods (FF)\n",
    "    - goal is to provide information on foods used to make more complex foods (such as those from GBFPD)\n",
    "    - provides information on single-ingredient foods\n",
    "    - provides analytical values for components of individual food samples (NOT composite values)\n",
    "    - provides data including number of samples, sampling location, date of collection, analytical approaches used, agricultural information (e.g. genotype, growing location, production practices)\n",
    "    - intended to be used in coordination with food-composition data from other USDA datasets (e.g. Nutrient Uptake and Outcomes Network, the Agricultural Collaborative Research Outcomes System, Economic Research Service)\n",
    "    - considered the future of USDA food information\n",
    "<br><br>\n",
    "4. Experimental Foods (EF): data type for food-composition data within the context of an experimental design or derived from new analytical methodology research\n",
    "    - foods produced, acquired, or studied under unique conditions (e.g. alternative management systems, experimental genotypes, or research/analytical protocols)\n",
    "    - set of experiments and results\n",
    "    - implemented for an intended audience of researchers\n",
    "<br><br>\n",
    "5. Food and Nutrient Database for Dietary Studies (FNDDS): a data type developed by Beltsville Human Nutrition Research Center's Food Surveys Research Group for the purposes of national nutrition monitoring (released every 2 years in coordination with the release of \"What We Eat in America\" as part of the NHANES). \n",
    "    - provides nutrient values for the foods and beverages reported in What We Eat in America (the dietary intake component of the National Heath and Nutrition Examination Survey (NHANES))\n",
    "    - nutrient profiles for a majority of foods and beverages were derived via calculation utilizing 2 or more ingredient codes from FF and SR Legacy data\n",
    "\n",
    "\"USDA’s FoodData Central: what is it and why is it needed today?\" (https://www.sciencedirect.com/science/article/pii/S0002916522001794?via%3Dihub)\n",
    "\n",
    "---\n",
    "\n",
    "# Files\n",
    "\n",
    "- `Download & API Field Descriptions April 2023.pdf`: description of data fields\n",
    "- `acquisition_samples.csv`: maps acquisition ID to sample ID (acquisitions may be blended with other acquisitions to create a sample food, and a given acquisition may be used in the creation of multiple sample foods)\n",
    "- `agricultural_samples.csv`: non-processed foods; n=810; contains ID, date obtained, the name of the specific kind of food, special conditions relevant to the production of this food (e.g. \"drought\"), the state where this food was produced\n",
    "- `all_downloaded_table_record_counts.csv`: maps table name to number of records in the table\n",
    "- `food.csv`: contains ID, data_type, description (name), food category, publication_date\n",
    "- `food_attribute.csv`: entries for food attributes, with FDC_ID mapping the attribute to the food that the attribute pertains to, the name of the attribute, the value of the attribute (e.g. ontology name for source, is organic, ingredients, barcode, etc.) \n",
    "- `food_attribute_type.csv`: mapping of food attribute type ID to name and description (not all food attributes have a value for this field)\n",
    "- `food_calorie_conversion_factor.csv`: mapping of ID (from nutrient_conversion_factor table) to multiplication factors for protein, fat, and carbohydrates used when calculating energy from macronutrients\n",
    "- `food_component.csv`: data on part of a food (e.g. percent weight)\n",
    "- `food_nutrient.csv`: table containing nutrient values for a food; contains ID of the corresponding food, ID of the corresponding nutrient, amount (per 100g), additional data such as number of observations, min, max, etc.\n",
    "- `food_nutrient_conversion_factor.csv`\n",
    "- `food_portion.csv`\n",
    "- `food_protein_conversion_factor.csv`\n",
    "- `food_update_log_entry.csv`\n",
    "- `foundation_food.csv`\n",
    "- `input_food.csv`\n",
    "- `lab_method.csv`\n",
    "- `lab_method_code.csv`\n",
    "- `lab_method_nutrient.csv`\n",
    "- `market_acquisition.csv`\n",
    "- `measure_unit.csv`\n",
    "- `nutrient.csv`\n",
    "- `sample_food.csv`\n",
    "- `sub_sample_food.csv`\n",
    "- `sub_sample_result.csv`\n",
    "- `survey_fndds_food.csv`\n",
    "\n",
    "source: https://fdc.nal.usda.gov/fdc-datasets/FoodData_Central_foundation_food_csv_2023-04-20.zip\n",
    "\n",
    "---\n",
    "\n",
    "# Development Plan\n",
    "\n",
    "1. ~~read background on USDA Food Data Central (continue reading at EF section)~~\n",
    "\n",
    "2. download files for `Foundation Foods` and review available data files\n",
    "\n",
    "3. assemble dataset into `.csv` file\n",
    "\n",
    "### Future Updates\n",
    "- add GBFPD foods for branded products\n",
    "- add SR foods (?)"
   ]
  },
  {
   "cell_type": "code",
   "execution_count": 1,
   "id": "8635e4fe",
   "metadata": {},
   "outputs": [
    {
     "data": {
      "text/plain": [
       "'/Users/nicolaslee/foodstats-analysis/notebooks'"
      ]
     },
     "execution_count": 1,
     "metadata": {},
     "output_type": "execute_result"
    }
   ],
   "source": [
    "import sys\n",
    "import os\n",
    "os.getcwd()"
   ]
  }
 ],
 "metadata": {
  "kernelspec": {
   "display_name": "Python 3 (ipykernel)",
   "language": "python",
   "name": "python3"
  },
  "language_info": {
   "codemirror_mode": {
    "name": "ipython",
    "version": 3
   },
   "file_extension": ".py",
   "mimetype": "text/x-python",
   "name": "python",
   "nbconvert_exporter": "python",
   "pygments_lexer": "ipython3",
   "version": "3.8.5"
  }
 },
 "nbformat": 4,
 "nbformat_minor": 5
}
