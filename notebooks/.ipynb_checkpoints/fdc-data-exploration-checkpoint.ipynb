{
 "cells": [
  {
   "cell_type": "markdown",
   "id": "4543c971",
   "metadata": {},
   "source": [
    "### FoodData Central data\n",
    "1. download data from https://fdc.nal.usda.gov/download-datasets.html\n",
    "2. place folder in `data` directory"
   ]
  },
  {
   "cell_type": "code",
   "execution_count": 1,
   "id": "8635e4fe",
   "metadata": {},
   "outputs": [
    {
     "data": {
      "text/plain": [
       "'/Users/nicolaslee/foodstats-analysis/notebooks'"
      ]
     },
     "execution_count": 1,
     "metadata": {},
     "output_type": "execute_result"
    }
   ],
   "source": [
    "import sys\n",
    "import os\n",
    "os.getcwd()"
   ]
  },
  {
   "cell_type": "markdown",
   "id": "8896d21b",
   "metadata": {},
   "source": [
    "### files\n",
    "- `agricultural_samples.csv`: non-processed foods obtained directly from the location where they are produced (in field descriptions called `agricultural_acquisition`\n",
    "- `acquisition_samples.csv`: acquisitions may be blended with other acquisitions to create a sample food and an acquisition can be used to create more than one sample food. This file stores which acquisitions and sample foods are related to each other. (in field descriptions called `acquisition_sample`)\n",
    "- `branded_food.csv`: foods whose nutrient values are typically obtained from food label data provided by food brand owners.\n",
    "- `food.csv`: any substance consumed by humans for nutrition, taste, and/or aroma\n",
    "- `food_attribute.csv`: the value for a generic property of a food"
   ]
  },
  {
   "cell_type": "code",
   "execution_count": null,
   "id": "bf7c6b0f",
   "metadata": {},
   "outputs": [],
   "source": []
  }
 ],
 "metadata": {
  "kernelspec": {
   "display_name": "Python 3 (ipykernel)",
   "language": "python",
   "name": "python3"
  },
  "language_info": {
   "codemirror_mode": {
    "name": "ipython",
    "version": 3
   },
   "file_extension": ".py",
   "mimetype": "text/x-python",
   "name": "python",
   "nbconvert_exporter": "python",
   "pygments_lexer": "ipython3",
   "version": "3.8.5"
  }
 },
 "nbformat": 4,
 "nbformat_minor": 5
}
